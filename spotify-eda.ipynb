{
 "cells": [
  {
   "cell_type": "markdown",
   "metadata": {
    "pycharm": {
     "name": "#%% md\n"
    }
   },
   "source": [
    "# Spotify Song Suggester"
   ]
  },
  {
   "cell_type": "markdown",
   "metadata": {
    "pycharm": {
     "name": "#%% md\n"
    }
   },
   "source": [
    "## The Problem:\n",
    "Need to create a model to give predictions of songs that a user might like based on music they already like."
   ]
  },
  {
   "cell_type": "markdown",
   "metadata": {
    "pycharm": {
     "name": "#%% md\n"
    }
   },
   "source": [
    "## Resources:\n",
    "- [DS PT Schedule / Milestones](https://www.notion.so/f30da0c13d5247289bd5ade8d95af4a8?v=c97929c27fe24af780928a5a91a8b095)\n",
    "- [DS Unit 3 Rubric](https://www.notion.so/Data-Science-Unit-3-Rubric-455c04d97fb840c6b75d46e8052a5275)\n",
    "- [DS Unit 4 Rubric](https://www.notion.so/Data-Science-Unit-4-Rubric-1f7381be7b924da2a83c086c2bf97d3b)"
   ]
  },
  {
   "cell_type": "markdown",
   "metadata": {
    "pycharm": {
     "name": "#%% md\n"
    }
   },
   "source": [
    "## The Data:\n",
    "Looking for data that not only gives the artist and title of a song, but the lyrics too."
   ]
  },
  {
   "cell_type": "markdown",
   "metadata": {
    "pycharm": {
     "name": "#%% md\n"
    }
   },
   "source": [
    "### Possible Datasets:\n",
    "- most_popular_spotify_songs.csv\n",
    "- [billboard-lyrics-spotify.csv](https://github.com/walkerkq/musiclyrics/blob/master/billboard_lyrics_1964-2015.csv)\n",
    "- [Spotify API](https://developer.spotify.com/documentation/web-api/quick-start/)\n",
    "- [musiXmatch Dataset API](http://millionsongdataset.com/musixmatch/)\n",
    "- Scrape the web for lyrics to match to Spotify song list."
   ]
  },
  {
   "cell_type": "code",
   "execution_count": null,
   "metadata": {
    "pycharm": {
     "name": "#%%\n"
    }
   },
   "outputs": [],
   "source": [
    "# If running on Google Colab\n",
    "# !pip install pandas-profiling==2.*\n",
    "# from google.colab import output # to clear pip output to screen\n",
    "# output.clear()"
   ]
  },
  {
   "cell_type": "code",
   "execution_count": 1,
   "metadata": {
    "pycharm": {
     "name": "#%%\n"
    }
   },
   "outputs": [],
   "source": [
    "# Imports\n",
    "import numpy as np\n",
    "import pandas as pd\n",
    "import pickle\n",
    "\n",
    "from pandas_profiling import ProfileReport\n",
    "\n",
    "# Sci-Kit Learn\n",
    "from sklearn.model_selection import train_test_split\n",
    "from sklearn.neighbors import NearestNeighbors"
   ]
  },
  {
   "cell_type": "code",
   "execution_count": null,
   "metadata": {
    "pycharm": {
     "name": "#%%\n"
    }
   },
   "outputs": [],
   "source": []
  }
 ],
 "metadata": {
  "kernelspec": {
   "display_name": "U4-S1-NN",
   "language": "python",
   "name": "u4-s1-nn"
  },
  "language_info": {
   "codemirror_mode": {
    "name": "ipython",
    "version": 3
   },
   "file_extension": ".py",
   "mimetype": "text/x-python",
   "name": "python",
   "nbconvert_exporter": "python",
   "pygments_lexer": "ipython3",
   "version": "3.8.0"
  }
 },
 "nbformat": 4,
 "nbformat_minor": 1
}
